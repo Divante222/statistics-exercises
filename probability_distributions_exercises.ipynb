{
 "cells": [
  {
   "cell_type": "code",
   "execution_count": 1,
   "id": "821bbd2a",
   "metadata": {},
   "outputs": [
    {
     "name": "stdout",
     "output_type": "stream",
     "text": [
      "the probability no cars will show up 0.14\n",
      "the probability 3 or more cars show up 0.32\n",
      "drive through gets at least 1 car 0.86\n",
      "What grade point average is required to be in the top 5% of the graduating class?\n",
      "3.49\n",
      "What GPA constitutes the bottom 15% of the class?\n",
      "2.69\n"
     ]
    }
   ],
   "source": [
    "# A bank found that the average number of cars waiting during the \n",
    "# noon hour at a drive-up window follows a Poisson distribution with a mean of 2 cars. \n",
    "# Make a chart of this distribution and answer these questions concerning the probability \n",
    "# of cars waiting at the drive-up window.\n",
    "import pandas as pd\n",
    "import numpy as np\n",
    "\n",
    "import matplotlib.pyplot as plt\n",
    "\n",
    "from scipy import stats\n",
    "\n",
    "mean = 2\n",
    "\n",
    "meteors = stats.poisson(mean)\n",
    "meteors\n",
    "\n",
    "\n",
    "# x = np.arange(0,8)\n",
    "# y = [meteors.pmf(i) for i in x]\n",
    "\n",
    "# plt.bar(x,y)\n",
    "\n",
    "# plt.xlabel('Meteor Events Per 100 Years')\n",
    "# plt.ylabel('Probability of Meteor Event')\n",
    "# plt.title('Poisson Distribution of Meteor Events in 100 year Window')\n",
    "# plt.show()\n",
    "\n",
    "\n",
    "# What is the probability that no cars drive up in the noon hour?\n",
    "print('the probability no cars will show up', round(meteors.pmf(0),2))\n",
    "\n",
    "\n",
    "\n",
    "\n",
    "# What is the probability that 3 or more cars come through the drive through?\n",
    "print('the probability 3 or more cars show up', round(meteors.sf(2),2))\n",
    "\n",
    "\n",
    "\n",
    "\n",
    "# How likely is it that the drive through gets at least 1 car?\n",
    "print('drive through gets at least 1 car', round(meteors.sf(0),2))\n",
    "\n",
    "\n",
    "\n",
    "# Grades of State University graduates are normally distributed with a mean of 3.0 \n",
    "# and a standard deviation of .3. Calculate the following:\n",
    "test_numbers = stats.norm(3, .3)\n",
    "\n",
    "\n",
    "\n",
    "# What grade point average is required to be in the top 5% of the graduating class?\n",
    "print('What grade point average is required to be in the top 5% of the graduating class?')\n",
    "print(round(test_numbers.isf(.05),2))\n",
    "\n",
    "\n",
    "# What GPA constitutes the bottom 15% of the class?\n",
    "print('What GPA constitutes the bottom 15% of the class?')\n",
    "print(round(test_numbers.isf(.85),2))\n",
    "\n",
    "\n",
    "\n",
    "\n"
   ]
  },
  {
   "cell_type": "code",
   "execution_count": 77,
   "id": "4a742b49",
   "metadata": {},
   "outputs": [
    {
     "data": {
      "text/html": [
       "<div>\n",
       "<style scoped>\n",
       "    .dataframe tbody tr th:only-of-type {\n",
       "        vertical-align: middle;\n",
       "    }\n",
       "\n",
       "    .dataframe tbody tr th {\n",
       "        vertical-align: top;\n",
       "    }\n",
       "\n",
       "    .dataframe thead th {\n",
       "        text-align: right;\n",
       "    }\n",
       "</style>\n",
       "<table border=\"1\" class=\"dataframe\">\n",
       "  <thead>\n",
       "    <tr style=\"text-align: right;\">\n",
       "      <th></th>\n",
       "      <th>emp_no</th>\n",
       "      <th>to_date</th>\n",
       "      <th>salary</th>\n",
       "    </tr>\n",
       "  </thead>\n",
       "  <tbody>\n",
       "    <tr>\n",
       "      <th>0</th>\n",
       "      <td>10001</td>\n",
       "      <td>9999-01-01</td>\n",
       "      <td>88958</td>\n",
       "    </tr>\n",
       "    <tr>\n",
       "      <th>1</th>\n",
       "      <td>10002</td>\n",
       "      <td>9999-01-01</td>\n",
       "      <td>72527</td>\n",
       "    </tr>\n",
       "    <tr>\n",
       "      <th>2</th>\n",
       "      <td>10003</td>\n",
       "      <td>9999-01-01</td>\n",
       "      <td>43311</td>\n",
       "    </tr>\n",
       "    <tr>\n",
       "      <th>3</th>\n",
       "      <td>10004</td>\n",
       "      <td>9999-01-01</td>\n",
       "      <td>74057</td>\n",
       "    </tr>\n",
       "    <tr>\n",
       "      <th>4</th>\n",
       "      <td>10005</td>\n",
       "      <td>9999-01-01</td>\n",
       "      <td>94692</td>\n",
       "    </tr>\n",
       "    <tr>\n",
       "      <th>...</th>\n",
       "      <td>...</td>\n",
       "      <td>...</td>\n",
       "      <td>...</td>\n",
       "    </tr>\n",
       "    <tr>\n",
       "      <th>240119</th>\n",
       "      <td>499995</td>\n",
       "      <td>9999-01-01</td>\n",
       "      <td>52868</td>\n",
       "    </tr>\n",
       "    <tr>\n",
       "      <th>240120</th>\n",
       "      <td>499996</td>\n",
       "      <td>9999-01-01</td>\n",
       "      <td>69501</td>\n",
       "    </tr>\n",
       "    <tr>\n",
       "      <th>240121</th>\n",
       "      <td>499997</td>\n",
       "      <td>9999-01-01</td>\n",
       "      <td>83441</td>\n",
       "    </tr>\n",
       "    <tr>\n",
       "      <th>240122</th>\n",
       "      <td>499998</td>\n",
       "      <td>9999-01-01</td>\n",
       "      <td>55003</td>\n",
       "    </tr>\n",
       "    <tr>\n",
       "      <th>240123</th>\n",
       "      <td>499999</td>\n",
       "      <td>9999-01-01</td>\n",
       "      <td>77303</td>\n",
       "    </tr>\n",
       "  </tbody>\n",
       "</table>\n",
       "<p>240124 rows × 3 columns</p>\n",
       "</div>"
      ],
      "text/plain": [
       "        emp_no     to_date  salary\n",
       "0        10001  9999-01-01   88958\n",
       "1        10002  9999-01-01   72527\n",
       "2        10003  9999-01-01   43311\n",
       "3        10004  9999-01-01   74057\n",
       "4        10005  9999-01-01   94692\n",
       "...        ...         ...     ...\n",
       "240119  499995  9999-01-01   52868\n",
       "240120  499996  9999-01-01   69501\n",
       "240121  499997  9999-01-01   83441\n",
       "240122  499998  9999-01-01   55003\n",
       "240123  499999  9999-01-01   77303\n",
       "\n",
       "[240124 rows x 3 columns]"
      ]
     },
     "execution_count": 77,
     "metadata": {},
     "output_type": "execute_result"
    }
   ],
   "source": [
    "from env import username, hostname, password\n",
    "import pandas as pd\n",
    "import numpy as np\n",
    "from pydataset import data\n",
    "\n",
    "\n",
    "# Connect to the employees database and find the average salary of current employees, \n",
    "# along with the standard deviation. For the following questions, \n",
    "\n",
    "\n",
    "\n",
    "# calculate the answer based on modeling the employees salaries with a normal distribution \n",
    "# defined by the calculated mean and standard deviation then compare this answer to the actual \n",
    "# values present in the salaries dataset.\n",
    "\n",
    "def get_db_url(username, hostname, password, db_name):\n",
    "    return f'mysql+pymysql://{username}:{password}@{hostname}/{db_name}'\n",
    "\n",
    "db_name = 'employees'\n",
    "\n",
    "url = get_db_url(username, hostname, password, db_name)\n",
    "query = '''\n",
    "select employees.emp_no, salaries.to_date, salaries.salary from employees\n",
    "join salaries using(emp_no)\n",
    "where to_date > curdate()\n",
    ";\n",
    "'''\n",
    "employees = pd.read_sql(query, url)\n",
    "\n",
    "employees"
   ]
  },
  {
   "cell_type": "code",
   "execution_count": 81,
   "id": "7874abc4",
   "metadata": {},
   "outputs": [
    {
     "data": {
      "text/plain": [
       "<scipy.stats._distn_infrastructure.rv_continuous_frozen at 0x1538780d0>"
      ]
     },
     "execution_count": 81,
     "metadata": {},
     "output_type": "execute_result"
    }
   ],
   "source": [
    "the_largest_salary = employees.groupby(by=employees.emp_no).agg('max')\n",
    "\n",
    "\n",
    "\n",
    "mean = the_largest_salary.salary.mean()\n",
    "standard_dev = the_largest_salary.salary.std()\n",
    "the_test = stats.norm(mean, standard_dev)\n",
    "# the_test.rvs(1000000)\n",
    "the_test"
   ]
  },
  {
   "cell_type": "code",
   "execution_count": 97,
   "id": "8b8bb948",
   "metadata": {},
   "outputs": [
    {
     "name": "stdout",
     "output_type": "stream",
     "text": [
      "0.24387554035434766\n"
     ]
    }
   ],
   "source": [
    "\n",
    "# What percent of employees earn less than 60,000?\n",
    "print(the_test.cdf(60001))\n"
   ]
  },
  {
   "cell_type": "code",
   "execution_count": 96,
   "id": "259bb4d5",
   "metadata": {},
   "outputs": [
    {
     "name": "stdout",
     "output_type": "stream",
     "text": [
      "0.09208819199804053\n",
      "0.334564\n",
      "43539.82717358635\n"
     ]
    }
   ],
   "source": [
    "\n",
    "# What percent of employees earn more than 95,000?\n",
    "print(the_test.sf(95000))\n",
    "\n",
    "# What percent of employees earn between 65,000 and 80,000?\n",
    "the_test_array = the_test.rvs(1000000)\n",
    "\n",
    "the_test_series = pd.Series(the_test_array)\n",
    "print(((the_test_series > 65000) & (the_test_series < 80000)).mean())\n",
    "\n",
    "\n",
    "\n",
    "\n",
    "# What do the top 5% of employees make?\n",
    "print(the_test.isf(.95))"
   ]
  },
  {
   "cell_type": "code",
   "execution_count": 98,
   "id": "08fb90ba",
   "metadata": {},
   "outputs": [
    {
     "data": {
      "text/plain": [
       "0.11781530585978471"
      ]
     },
     "execution_count": 98,
     "metadata": {},
     "output_type": "execute_result"
    }
   ],
   "source": [
    "\n",
    "# A marketing website has an average click-through rate of 2%. One day they observe 4326 visitors \n",
    "# and 97 click-throughs. How likely is it that this many people or more click through?\n",
    "\n",
    "# 4326\n",
    "# 2%\n",
    "# 97\n",
    "\n",
    "the_test = stats.binom(4326, .02)\n",
    "the_test.sf(97)"
   ]
  },
  {
   "cell_type": "code",
   "execution_count": 103,
   "id": "8cbf4002",
   "metadata": {},
   "outputs": [
    {
     "name": "stdout",
     "output_type": "stream",
     "text": [
      "0.79716\n"
     ]
    }
   ],
   "source": [
    "# You want to get lunch at La Panaderia, but notice that the line is usually very long at lunchtime. \n",
    "\n",
    "# After several weeks of careful observation, you notice that the average number of people in line \n",
    "# when your lunch break starts is normally distributed with a mean of 15 and standard deviation of 3. \n",
    "\n",
    "# If it takes 2 minutes for each person to order, and 10 minutes from ordering to getting your food, \n",
    "# what is the likelihood that you have at least 15 minutes left to eat your food before you have to go \n",
    "# back to class? Assume you have one hour for lunch, and ignore travel time to and from La Panaderia.\n",
    "\n",
    "# 2 mins each person\n",
    "# 10 minutes from ordering to get food\n",
    "# at least 15 minutes left \n",
    "# one hour total time\n",
    "\n",
    "mean = 15\n",
    "sd = 3\n",
    "people_time = stats.norm(mean, sd)\n",
    "the_test = pd.Series(people_time.rvs(1000000))\n",
    "\n",
    "the_test = the_test*2\n",
    "\n",
    "the_test = the_test + 10\n",
    "\n",
    "print((the_test + 15 <= 60).mean())"
   ]
  },
  {
   "cell_type": "code",
   "execution_count": 105,
   "id": "6f99baef",
   "metadata": {},
   "outputs": [
    {
     "name": "stdout",
     "output_type": "stream",
     "text": [
      "the probability someone cleans up\n",
      "nan\n"
     ]
    }
   ],
   "source": [
    "# Suppose that there's a 3% chance that any one student cleans the break area when they visit it, \n",
    "\n",
    "# and, on any given day, about 90% of the 3 active cohorts of 22 students visit the break area. \n",
    "\n",
    "# How likely is it that the break area gets cleaned up each day? How likely is it that it goes \n",
    "# two days without getting cleaned up? All week?\n",
    "\n",
    "students = (22 * 3) * .9\n",
    "# 3% chance cleaned up\n",
    "# 90% students visit per day\n",
    "# 22 students\n",
    "# check each day, week\n",
    "the_test = stats.binom(students, .03)\n",
    "print('the probability someone cleans up')\n",
    "print(the_test.ppf(1))"
   ]
  },
  {
   "cell_type": "code",
   "execution_count": 125,
   "id": "90a5e579",
   "metadata": {
    "scrolled": false
   },
   "outputs": [
    {
     "name": "stdout",
     "output_type": "stream",
     "text": [
      "0.6352076892466552\n",
      "\n",
      "0.45284335760923855\n",
      "\n",
      "0.6352076892466552\n",
      "\n",
      "0.7024468573078793\n",
      "\n",
      "0.016666666666666666\n",
      "0.01\n"
     ]
    }
   ],
   "source": [
    "# You are working on some statistics homework consisting of 100 questions where all \n",
    "# of the answers are a probability rounded to the hundreths place. Looking to save time, \n",
    "# you put down random probabilities as the answer to each question.\n",
    "\n",
    "# What is the probability that at least one of your first 60 answers is correct?\n",
    "\n",
    "\n",
    "# random probabilities\n",
    "\n",
    "# 100 questions\n",
    "# first 60 right 1/60 = decimal\n",
    "# the number 1\n",
    "\n",
    "print(stats.binom(60, 1/60).sf(0))\n",
    "print()\n",
    "print(stats.binom(60, .01).sf(0))\n",
    "print()\n",
    "print(stats.binom(60, .016666666666666666).sf(0))\n",
    "print()\n",
    "print(stats.binom(60, .02).sf(0))\n",
    "print()\n",
    "print(1/60)\n",
    "print(.01)\n"
   ]
  },
  {
   "cell_type": "code",
   "execution_count": 127,
   "id": "1ba37926",
   "metadata": {},
   "outputs": [
    {
     "name": "stdout",
     "output_type": "stream",
     "text": [
      "Would a student with a 2.8 grade point average qualify\n",
      "2.87\n",
      "3.13\n"
     ]
    }
   ],
   "source": [
    "# An eccentric alumnus left scholarship money for students in the third decile from the bottom of their class. \n",
    "# Determine the range of the third decile. Would a student with a 2.8 grade point average qualify \n",
    "# for this scholarship?\n",
    "print('Would a student with a 2.8 grade point average qualify')\n",
    "# for this scholarship?')\n",
    "print(round(test_numbers.isf(2/3),2))\n",
    "#yes because they are in the lower third of the class \n",
    "\n",
    "# If I have a GPA of 3.5, what percentile am I in?\n",
    "print(round(test_numbers.isf(1/3),2))\n",
    "#the upper third percentile"
   ]
  },
  {
   "cell_type": "code",
   "execution_count": null,
   "id": "53f6f6fb",
   "metadata": {},
   "outputs": [],
   "source": []
  }
 ],
 "metadata": {
  "kernelspec": {
   "display_name": "Python 3 (ipykernel)",
   "language": "python",
   "name": "python3"
  },
  "language_info": {
   "codemirror_mode": {
    "name": "ipython",
    "version": 3
   },
   "file_extension": ".py",
   "mimetype": "text/x-python",
   "name": "python",
   "nbconvert_exporter": "python",
   "pygments_lexer": "ipython3",
   "version": "3.9.13"
  }
 },
 "nbformat": 4,
 "nbformat_minor": 5
}
