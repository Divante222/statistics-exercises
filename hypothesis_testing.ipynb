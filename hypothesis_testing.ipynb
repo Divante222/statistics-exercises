{
 "cells": [
  {
   "cell_type": "code",
   "execution_count": null,
   "id": "e8489279",
   "metadata": {},
   "outputs": [],
   "source": [
    "\n",
    "# Has the network latency gone up since we switched internet service providers?\n",
    "\n",
    "\n",
    "\n",
    "# Is the website redesign any good?\n",
    "\n",
    "\n",
    "\n",
    "# Is our television ad driving more sales?\n"
   ]
  }
 ],
 "metadata": {
  "kernelspec": {
   "display_name": "Python 3 (ipykernel)",
   "language": "python",
   "name": "python3"
  },
  "language_info": {
   "codemirror_mode": {
    "name": "ipython",
    "version": 3
   },
   "file_extension": ".py",
   "mimetype": "text/x-python",
   "name": "python",
   "nbconvert_exporter": "python",
   "pygments_lexer": "ipython3",
   "version": "3.9.13"
  }
 },
 "nbformat": 4,
 "nbformat_minor": 5
}
