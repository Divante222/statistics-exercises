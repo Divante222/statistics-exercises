{
 "cells": [
  {
   "cell_type": "markdown",
   "id": "f95366bc",
   "metadata": {},
   "source": [
    "\n",
    "\n"
   ]
  },
  {
   "cell_type": "code",
   "execution_count": 3,
   "id": "5e2a67e4",
   "metadata": {},
   "outputs": [
    {
     "ename": "NameError",
     "evalue": "name 'stats' is not defined",
     "output_type": "error",
     "traceback": [
      "\u001b[0;31m---------------------------------------------------------------------------\u001b[0m",
      "\u001b[0;31mNameError\u001b[0m                                 Traceback (most recent call last)",
      "Input \u001b[0;32mIn [3]\u001b[0m, in \u001b[0;36m<cell line: 1>\u001b[0;34m()\u001b[0m\n\u001b[0;32m----> 1\u001b[0m sales_dist \u001b[38;5;241m=\u001b[39m \u001b[43mstats\u001b[49m\u001b[38;5;241m.\u001b[39mnorm(\u001b[38;5;241m618\u001b[39m, \u001b[38;5;241m.1\u001b[39m)\n\u001b[1;32m      2\u001b[0m sales_dist\n\u001b[1;32m      3\u001b[0m sales_dist\u001b[38;5;241m.\u001b[39mrvs(\u001b[38;5;241m70\u001b[39m)\n",
      "\u001b[0;31mNameError\u001b[0m: name 'stats' is not defined"
     ]
    }
   ],
   "source": [
    "sales_dist = stats.norm(618, .1)\n",
    "sales_dist\n",
    "sales_dist.rvs(70)\n"
   ]
  },
  {
   "cell_type": "code",
   "execution_count": 5,
   "id": "66c7d1e9",
   "metadata": {},
   "outputs": [],
   "source": [
    "import matplotlib.pyplot as plt\n",
    "import numpy as np\n",
    "import pandas as pd\n",
    "import seaborn as sns\n",
    "from scipy import stats"
   ]
  },
  {
   "cell_type": "markdown",
   "id": "2d69cde9",
   "metadata": {},
   "source": [
    "mean of 40 minutes\n",
    "\n",
    "standard deviation of 15 minutes\n",
    "\n",
    "If it takes 5 minutes to walk\n",
    "\n",
    "your lunch hour"
   ]
  },
  {
   "cell_type": "code",
   "execution_count": 13,
   "id": "18055321",
   "metadata": {},
   "outputs": [
    {
     "data": {
      "text/plain": [
       "0.7475074624530771"
      ]
     },
     "execution_count": 13,
     "metadata": {},
     "output_type": "execute_result"
    }
   ],
   "source": [
    "\n",
    "data = stats.norm(40, 15)\n",
    "\n",
    "total_lunch_time = 60 #mins\n",
    "\n",
    "walk_time = 10 #mins\n",
    "\n",
    "\n",
    "\n",
    "max_wait = (total_lunch_time - walk_time)\n",
    "data.cdf(max_wait)\n"
   ]
  },
  {
   "cell_type": "code",
   "execution_count": 21,
   "id": "c114381a",
   "metadata": {},
   "outputs": [
    {
     "data": {
      "text/plain": [
       "0.15107528710209764"
      ]
     },
     "execution_count": 21,
     "metadata": {},
     "output_type": "execute_result"
    }
   ],
   "source": [
    "# 618 customers \n",
    "# 10 percent take trial\n",
    "# 70 or more people\n",
    "\n",
    "the_test = stats.binom(618, .1)\n",
    "the_test.sf(69)"
   ]
  }
 ],
 "metadata": {
  "kernelspec": {
   "display_name": "Python 3 (ipykernel)",
   "language": "python",
   "name": "python3"
  },
  "language_info": {
   "codemirror_mode": {
    "name": "ipython",
    "version": 3
   },
   "file_extension": ".py",
   "mimetype": "text/x-python",
   "name": "python",
   "nbconvert_exporter": "python",
   "pygments_lexer": "ipython3",
   "version": "3.9.13"
  }
 },
 "nbformat": 4,
 "nbformat_minor": 5
}
